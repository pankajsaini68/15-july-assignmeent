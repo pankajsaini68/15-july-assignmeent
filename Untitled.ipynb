{
 "cells": [
  {
   "cell_type": "code",
   "execution_count": 1,
   "id": "8734c3cb",
   "metadata": {},
   "outputs": [],
   "source": [
    "s = \"this is my first programming class and i am learning its strings and its functions\""
   ]
  },
  {
   "cell_type": "markdown",
   "id": "6d69e65f",
   "metadata": {},
   "source": [
    "1 . Try to extract data from index one to index 300 with a jump of 3"
   ]
  },
  {
   "cell_type": "code",
   "execution_count": 2,
   "id": "aa7b20bd",
   "metadata": {},
   "outputs": [
    {
     "data": {
      "text/plain": [
       "'h   r oai a d  ai stn dtfco'"
      ]
     },
     "execution_count": 2,
     "metadata": {},
     "output_type": "execute_result"
    }
   ],
   "source": [
    "s[1:300:3]"
   ]
  },
  {
   "cell_type": "markdown",
   "id": "e7d67743",
   "metadata": {},
   "source": [
    "2 . try to reverse a string without using reversing function function . "
   ]
  },
  {
   "cell_type": "code",
   "execution_count": 3,
   "id": "1cf7079b",
   "metadata": {},
   "outputs": [
    {
     "data": {
      "text/plain": [
       "'snoitcnuf sti dna sgnirts sti gninrael ma i dna ssalc gnimmargorp tsrif ym si siht'"
      ]
     },
     "execution_count": 3,
     "metadata": {},
     "output_type": "execute_result"
    }
   ],
   "source": [
    "s[::-1]"
   ]
  },
  {
   "cell_type": "markdown",
   "id": "675760b8",
   "metadata": {},
   "source": [
    "3. try to splt a string after conversion of entire strinfg in uppercase "
   ]
  },
  {
   "cell_type": "code",
   "execution_count": 4,
   "id": "633aa516",
   "metadata": {},
   "outputs": [],
   "source": [
    "s = s.upper()"
   ]
  },
  {
   "cell_type": "code",
   "execution_count": 5,
   "id": "8d9a5409",
   "metadata": {},
   "outputs": [
    {
     "data": {
      "text/plain": [
       "'THIS IS MY FIRST PROGRAMMING CLASS AND I AM LEARNING ITS STRINGS AND ITS FUNCTIONS'"
      ]
     },
     "execution_count": 5,
     "metadata": {},
     "output_type": "execute_result"
    }
   ],
   "source": [
    "s"
   ]
  },
  {
   "cell_type": "code",
   "execution_count": 6,
   "id": "39a4903a",
   "metadata": {},
   "outputs": [
    {
     "data": {
      "text/plain": [
       "['THIS',\n",
       " 'IS',\n",
       " 'MY',\n",
       " 'FIRST',\n",
       " 'PROGRAMMING',\n",
       " 'CLASS',\n",
       " 'AND',\n",
       " 'I',\n",
       " 'AM',\n",
       " 'LEARNING',\n",
       " 'ITS',\n",
       " 'STRINGS',\n",
       " 'AND',\n",
       " 'ITS',\n",
       " 'FUNCTIONS']"
      ]
     },
     "execution_count": 6,
     "metadata": {},
     "output_type": "execute_result"
    }
   ],
   "source": [
    "s.split()"
   ]
  },
  {
   "cell_type": "markdown",
   "id": "4cfeeeab",
   "metadata": {},
   "source": [
    "4. try to convert whole string in lower case "
   ]
  },
  {
   "cell_type": "code",
   "execution_count": 7,
   "id": "31f554a6",
   "metadata": {},
   "outputs": [
    {
     "data": {
      "text/plain": [
       "'this is my first programming class and i am learning its strings and its functions'"
      ]
     },
     "execution_count": 7,
     "metadata": {},
     "output_type": "execute_result"
    }
   ],
   "source": [
    "s.lower()"
   ]
  },
  {
   "cell_type": "markdown",
   "id": "7d9ad8bb",
   "metadata": {},
   "source": [
    "5 .  try to capitialize the whole string"
   ]
  },
  {
   "cell_type": "code",
   "execution_count": 10,
   "id": "524484ae",
   "metadata": {},
   "outputs": [
    {
     "data": {
      "text/plain": [
       "'This is my first programming class and i am learning its strings and its functions'"
      ]
     },
     "execution_count": 10,
     "metadata": {},
     "output_type": "execute_result"
    }
   ],
   "source": [
    "s.capitalize()"
   ]
  },
  {
   "cell_type": "markdown",
   "id": "c99908b1",
   "metadata": {},
   "source": [
    "6 . write a diffrence bw isalnum() and isalpha()"
   ]
  },
  {
   "cell_type": "markdown",
   "id": "af72263f",
   "metadata": {},
   "source": [
    "isalnum() - Return True if the string is an alpha-numeric string, False otherwise.\n",
    "s.isalpha() - Return True if the string is an alphabetic string "
   ]
  },
  {
   "cell_type": "markdown",
   "id": "997b894b",
   "metadata": {},
   "source": [
    "7 . try  to give a example of stip lstrip and rstrip \n"
   ]
  },
  {
   "cell_type": "code",
   "execution_count": 11,
   "id": "a97295e3",
   "metadata": {},
   "outputs": [],
   "source": [
    "p = '      gunjan        '"
   ]
  },
  {
   "cell_type": "code",
   "execution_count": 12,
   "id": "9046c975",
   "metadata": {},
   "outputs": [
    {
     "data": {
      "text/plain": [
       "'gunjan        '"
      ]
     },
     "execution_count": 12,
     "metadata": {},
     "output_type": "execute_result"
    }
   ],
   "source": [
    "p.lstrip()"
   ]
  },
  {
   "cell_type": "code",
   "execution_count": 13,
   "id": "ad9ad71c",
   "metadata": {},
   "outputs": [
    {
     "data": {
      "text/plain": [
       "'      gunjan'"
      ]
     },
     "execution_count": 13,
     "metadata": {},
     "output_type": "execute_result"
    }
   ],
   "source": [
    "p.rstrip()"
   ]
  },
  {
   "cell_type": "markdown",
   "id": "f9d6968a",
   "metadata": {},
   "source": [
    "8 . replace a string character by another characcter by taking your own words\n"
   ]
  },
  {
   "cell_type": "code",
   "execution_count": 48,
   "id": "9b744b77",
   "metadata": {},
   "outputs": [],
   "source": [
    "t = ' i love data science'"
   ]
  },
  {
   "cell_type": "code",
   "execution_count": 49,
   "id": "e2496d3c",
   "metadata": {},
   "outputs": [
    {
     "data": {
      "text/plain": [
       "' i love human science'"
      ]
     },
     "execution_count": 49,
     "metadata": {},
     "output_type": "execute_result"
    }
   ],
   "source": [
    "t.replace('data', 'human')"
   ]
  },
  {
   "cell_type": "markdown",
   "id": "630a2bc3",
   "metadata": {},
   "source": [
    "9 . try to give a defination of sting center function by taking your own example"
   ]
  },
  {
   "cell_type": "markdown",
   "id": "848de12f",
   "metadata": {},
   "source": [
    "t.center() - this function fill sapce oof string with character that is input by us ."
   ]
  },
  {
   "cell_type": "markdown",
   "id": "1962c135",
   "metadata": {},
   "source": [
    "10 . write your wn defination of copiler and interpretter without copy paste from internet"
   ]
  },
  {
   "cell_type": "markdown",
   "id": "aaa05831",
   "metadata": {},
   "source": [
    "compiler - it is smart or faster then compiler because it can translate entire code in single run .\n",
    "interpreter - it  takes more time to translate source code & it translate code line by line . \n"
   ]
  },
  {
   "cell_type": "markdown",
   "id": "e5863c1e",
   "metadata": {},
   "source": [
    "11 . python is a interpreted compiler language give a claer ans with your understanding "
   ]
  },
  {
   "cell_type": "markdown",
   "id": "e7089fa9",
   "metadata": {},
   "source": [
    "python is a interpreted language because it translate code line by line & python code is not require to be built\n"
   ]
  },
  {
   "cell_type": "markdown",
   "id": "6c0ecb3b",
   "metadata": {},
   "source": [
    "13 . try to write a use case with your understanding"
   ]
  },
  {
   "cell_type": "markdown",
   "id": "3917a6ed",
   "metadata": {},
   "source": [
    "uses of python \n",
    "1 . game development  \n",
    "2 . web developmeant\n",
    "3 . app development \n",
    "3. python is used in data science\n",
    "4 . it is used in artificial intelligence\n",
    "5 . it is used to design machine algorithams\n"
   ]
  },
  {
   "cell_type": "code",
   "execution_count": null,
   "id": "5de85700",
   "metadata": {},
   "outputs": [],
   "source": []
  }
 ],
 "metadata": {
  "kernelspec": {
   "display_name": "Python 3 (ipykernel)",
   "language": "python",
   "name": "python3"
  },
  "language_info": {
   "codemirror_mode": {
    "name": "ipython",
    "version": 3
   },
   "file_extension": ".py",
   "mimetype": "text/x-python",
   "name": "python",
   "nbconvert_exporter": "python",
   "pygments_lexer": "ipython3",
   "version": "3.9.12"
  }
 },
 "nbformat": 4,
 "nbformat_minor": 5
}
